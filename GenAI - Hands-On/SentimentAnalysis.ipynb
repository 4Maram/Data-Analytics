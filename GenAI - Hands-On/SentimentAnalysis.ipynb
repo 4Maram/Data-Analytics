{
 "cells": [
  {
   "cell_type": "code",
   "execution_count": 1,
   "id": "7f80fbdb-c6ce-4d93-b07f-405fd7135330",
   "metadata": {
    "tags": []
   },
   "outputs": [],
   "source": [
    "from collections import defaultdict\n",
    "from string import punctuation\n",
    "from collections import Counter"
   ]
  },
  {
   "cell_type": "code",
   "execution_count": 2,
   "id": "7c196a23-62bf-470d-90fd-0797f7141a50",
   "metadata": {
    "tags": []
   },
   "outputs": [],
   "source": [
    "class NaiveBayesClassifier:\n",
    "    def __init__(self, samples):\n",
    "        self.mapping = {\"pos\": [], \"neg\" : []}\n",
    "        self.neg_mapping = defaultdict(lambda: 0)\n",
    "        self.sample_count = len(samples)\n",
    "        for text, label in samples:\n",
    "            self.mapping[label] += self.tokenize(text)\n",
    "        self.pos_counter = Counter(self.mapping[\"pos\"])\n",
    "        self.neg_counter = Counter(self.mapping[\"neg\"])\n",
    "        \n",
    "        @staticmethod\n",
    "        def tokenize(text):\n",
    "            return (\n",
    "            text.lower().translate(str.maketrans(\"\",\"\", punctuation , \"1234567890\"))\n",
    "                .replace(\"\\n\", \" \")\n",
    "                .split(\" \"))\n",
    "        \n",
    "        def classify(self, text):\n",
    "            tokens = self.tokenize(text)\n",
    "            pos=[]\n",
    "            neg=[]\n",
    "            \n",
    "            for token in tokens:\n",
    "                pos.append(self.pos_counter[token]/self.sample_count)\n",
    "                neg.append(self.neg_counter[token]/self.sample_count)\n",
    "                \n",
    "            if sum(pos) > sum(neg):\n",
    "                return \"pos\"\n",
    "            elif sum(pos) < sum(neg):\n",
    "                return \"neg\" \n",
    "            else: \n",
    "                return \" neutral\""
   ]
  },
  {
   "cell_type": "code",
   "execution_count": 3,
   "id": "3e7015b2-f7f0-41b9-8df7-39495efe528d",
   "metadata": {
    "tags": []
   },
   "outputs": [
    {
     "ename": "NameError",
     "evalue": "name 'post_comments_with_labels' is not defined",
     "output_type": "error",
     "traceback": [
      "\u001b[1;31m---------------------------------------------------------------------------\u001b[0m",
      "\u001b[1;31mNameError\u001b[0m                                 Traceback (most recent call last)",
      "Cell \u001b[1;32mIn[3], line 38\u001b[0m\n\u001b[0;32m     33\u001b[0m         \u001b[38;5;28;01melse\u001b[39;00m: \n\u001b[0;32m     34\u001b[0m                 \u001b[38;5;28;01mreturn\u001b[39;00m \u001b[38;5;124m\"\u001b[39m\u001b[38;5;124m neutral\u001b[39m\u001b[38;5;124m\"\u001b[39m\n\u001b[1;32m---> 38\u001b[0m cl \u001b[38;5;241m=\u001b[39m NaiveBayesClassifier(post_comments_with_labels)\n\u001b[0;32m     40\u001b[0m show_expected_result \u001b[38;5;241m=\u001b[39m \u001b[38;5;28;01mFalse\u001b[39;00m\n\u001b[0;32m     41\u001b[0m show_hints \u001b[38;5;241m=\u001b[39m \u001b[38;5;28;01mFalse\u001b[39;00m\n",
      "\u001b[1;31mNameError\u001b[0m: name 'post_comments_with_labels' is not defined"
     ]
    }
   ],
   "source": [
    "class NaiveBayesClassifier:\n",
    "    def __init__(self, samples):\n",
    "        self.mapping = {\"pos\": [], \"neg\": []}\n",
    "        self.neg_mapping = defaultdict(lambda: 0)\n",
    "        self.sample_count = len(samples)\n",
    "        for text, label in samples:\n",
    "            self.mapping[label] += self.tokenize(text)\n",
    "        self.pos_counter = Counter(self.mapping[\"pos\"])\n",
    "        self.neg_counter = Counter(self.mapping[\"neg\"])\n",
    "\n",
    "    @staticmethod\n",
    "    def tokenize(text):\n",
    "        return (\n",
    "            text.lower().translate(str.maketrans(\"\", \"\", punctuation + \"1234567890\"))\n",
    "            .replace(\"\\n\", \" \")\n",
    "            .split(\" \")\n",
    "        )\n",
    "\n",
    "    def classify(self, text):\n",
    "        tokens = self.tokenize(text)\n",
    "        pos = []\n",
    "        neg = []\n",
    "\n",
    "        for token in tokens:\n",
    "            pos.append(self.pos_counter[token]/ self.sample_count)\n",
    "            neg.append(self.neg_counter[token]/self.sample_count)\n",
    "\n",
    "        # rerturn \"neg\", \"pos\" or \"nutral\"\n",
    "        if sum(pos) > sum(neg):\n",
    "                return \"pos\"\n",
    "        elif sum(pos) < sum(neg):\n",
    "                return \"neg\" \n",
    "        else: \n",
    "                return \" neutral\"\n",
    "\n",
    "\n",
    "\n",
    "cl = NaiveBayesClassifier(post_comments_with_labels)\n",
    "\n",
    "show_expected_result = False\n",
    "show_hints = False\n",
    "\n",
    "def get_sentiment(text):\n",
    "    cl = NaiveBayesClassifier(post_comments_with_labels)\n",
    "    return cl.classify(text)"
   ]
  },
  {
   "cell_type": "code",
   "execution_count": 16,
   "id": "73055e8c-888c-4b99-8c0e-17c161815d6d",
   "metadata": {
    "tags": []
   },
   "outputs": [],
   "source": [
    "post_comments_with_labels = [\n",
    "    (\"I love this post.\", \"pos\"),\n",
    "    (\"This post is your best work.\", \"pos\"),\n",
    "    (\"I really liked this post.\", \"pos\"),\n",
    "    ('I agree 100 percent. This is true', 'pos'),\n",
    "    (\"This post is spot on!\", \"pos\"),\n",
    "    (\"So smart!\", \"pos\"),\n",
    "    (\"What a good point!\", \"pos\"),\n",
    "    (\"Bad stuff.\", \"neg\"),\n",
    "    (\"I hate this.\", \"neg\"),\n",
    "    (\"This post is horrible.\", \"neg\"),\n",
    "    (\"I really disliked this post.\", \"neg\"),\n",
    "    (\"What a waste of time.\", \"neg\"),\n",
    "    (\"I do not agree with this post.\", \"neg\"),\n",
    "    (\"I can't believe you would post this.\", \"neg\"),]"
   ]
  },
  {
   "cell_type": "code",
   "execution_count": 17,
   "id": "1ed8dd4d-9aba-4a76-ac55-f35cae09e809",
   "metadata": {
    "tags": []
   },
   "outputs": [],
   "source": [
    "cl = NaiveBayesClassifier(post_comments_with_labels)\n",
    "\n",
    "show_expected_result = False\n",
    "show_hints = False"
   ]
  },
  {
   "cell_type": "code",
   "execution_count": 18,
   "id": "082b0dc4-9fee-4a6c-89f1-dbed6f10b974",
   "metadata": {
    "tags": []
   },
   "outputs": [],
   "source": [
    "def get_sentiment(text):\n",
    "    cl = NaiveBayesClassifier(post_comments_with_labels)\n",
    "    return cl.classify(text)"
   ]
  },
  {
   "cell_type": "code",
   "execution_count": 31,
   "id": "852cab7c-b980-4da0-bd86-ed91a7a1cef6",
   "metadata": {
    "tags": []
   },
   "outputs": [],
   "source": [
    "text = \"Not okay at all\"\n",
    "result = get_sentiment(text)"
   ]
  },
  {
   "cell_type": "code",
   "execution_count": 32,
   "id": "72052f53-2ec4-4165-a265-3e5aeba2f4d3",
   "metadata": {
    "tags": []
   },
   "outputs": [
    {
     "data": {
      "text/plain": [
       "'neg'"
      ]
     },
     "execution_count": 32,
     "metadata": {},
     "output_type": "execute_result"
    }
   ],
   "source": [
    "result"
   ]
  },
  {
   "cell_type": "code",
   "execution_count": null,
   "id": "d17db9a1-04ac-4443-a555-60b43fd840ca",
   "metadata": {},
   "outputs": [],
   "source": []
  }
 ],
 "metadata": {
  "kernelspec": {
   "display_name": "Python 3 (ipykernel)",
   "language": "python",
   "name": "python3"
  },
  "language_info": {
   "codemirror_mode": {
    "name": "ipython",
    "version": 3
   },
   "file_extension": ".py",
   "mimetype": "text/x-python",
   "name": "python",
   "nbconvert_exporter": "python",
   "pygments_lexer": "ipython3",
   "version": "3.11.5"
  }
 },
 "nbformat": 4,
 "nbformat_minor": 5
}
